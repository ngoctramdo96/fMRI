{
 "cells": [
  {
   "cell_type": "markdown",
   "metadata": {},
   "source": [
    "# Plan \n",
    "\n",
    "- [ ] Vua doc FirstLevelModel (nilearn_stats) vua chay thu model tren sub 01 and 06 \n",
    "- [ ] Task 2\n",
    "- [ ] Task 3 (Completed)\n",
    "- [x]\n",
    "\n",
    "# NOTE\n",
    "\n",
    "* Use localizer data to define rois for face??? should I do it, uncertainty and other factors may be present in other areas. \n",
    "* run GLM for all rois \n",
    "\n",
    "independant: level of morph, emotion\n",
    "Dependent: answer, neural activity "
   ]
  },
  {
   "cell_type": "code",
   "execution_count": 3,
   "metadata": {},
   "outputs": [
    {
     "name": "stdout",
     "output_type": "stream",
     "text": [
      "Collecting nilearn\n",
      "  Downloading nilearn-0.9.2-py3-none-any.whl (9.6 MB)\n",
      "\u001b[K     |████████████████████████████████| 9.6 MB 3.5 MB/s eta 0:00:01\n",
      "\u001b[?25hCollecting scipy>=1.5\n",
      "  Downloading scipy-1.5.4-cp36-cp36m-manylinux1_x86_64.whl (25.9 MB)\n",
      "\u001b[K     |████████████████████████████████| 25.9 MB 3.6 MB/s eta 0:00:01\n",
      "\u001b[?25hRequirement already satisfied, skipping upgrade: nibabel>=3.0.0 in /opt/miniconda-latest/envs/neuro/lib/python3.6/site-packages (from nilearn) (3.1.0)\n",
      "Requirement already satisfied, skipping upgrade: numpy>=1.18 in /opt/miniconda-latest/envs/neuro/lib/python3.6/site-packages (from nilearn) (1.18.4)\n",
      "Requirement already satisfied, skipping upgrade: requests>=2 in /opt/miniconda-latest/envs/neuro/lib/python3.6/site-packages (from nilearn) (2.23.0)\n",
      "Requirement already satisfied, skipping upgrade: lxml in /opt/miniconda-latest/envs/neuro/lib/python3.6/site-packages (from nilearn) (4.5.1)\n",
      "Requirement already satisfied, skipping upgrade: joblib>=0.15 in /opt/miniconda-latest/envs/neuro/lib/python3.6/site-packages (from nilearn) (0.15.1)\n",
      "Requirement already satisfied, skipping upgrade: scikit-learn>=0.22 in /opt/miniconda-latest/envs/neuro/lib/python3.6/site-packages (from nilearn) (0.23.1)\n",
      "Requirement already satisfied, skipping upgrade: pandas>=1.0 in /opt/miniconda-latest/envs/neuro/lib/python3.6/site-packages (from nilearn) (1.0.3)\n",
      "Requirement already satisfied, skipping upgrade: packaging>=14.3 in /opt/miniconda-latest/envs/neuro/lib/python3.6/site-packages (from nibabel>=3.0.0->nilearn) (20.4)\n",
      "Requirement already satisfied, skipping upgrade: idna<3,>=2.5 in /opt/miniconda-latest/envs/neuro/lib/python3.6/site-packages (from requests>=2->nilearn) (2.9)\n",
      "Requirement already satisfied, skipping upgrade: certifi>=2017.4.17 in /opt/miniconda-latest/envs/neuro/lib/python3.6/site-packages (from requests>=2->nilearn) (2020.4.5.1)\n",
      "Requirement already satisfied, skipping upgrade: urllib3!=1.25.0,!=1.25.1,<1.26,>=1.21.1 in /opt/miniconda-latest/envs/neuro/lib/python3.6/site-packages (from requests>=2->nilearn) (1.25.9)\n",
      "Requirement already satisfied, skipping upgrade: chardet<4,>=3.0.2 in /opt/miniconda-latest/envs/neuro/lib/python3.6/site-packages (from requests>=2->nilearn) (3.0.4)\n",
      "Requirement already satisfied, skipping upgrade: threadpoolctl>=2.0.0 in /opt/miniconda-latest/envs/neuro/lib/python3.6/site-packages (from scikit-learn>=0.22->nilearn) (2.0.0)\n",
      "Requirement already satisfied, skipping upgrade: python-dateutil>=2.6.1 in /opt/miniconda-latest/envs/neuro/lib/python3.6/site-packages (from pandas>=1.0->nilearn) (2.8.1)\n",
      "Requirement already satisfied, skipping upgrade: pytz>=2017.2 in /opt/miniconda-latest/envs/neuro/lib/python3.6/site-packages (from pandas>=1.0->nilearn) (2020.1)\n",
      "Requirement already satisfied, skipping upgrade: six in /opt/miniconda-latest/envs/neuro/lib/python3.6/site-packages (from packaging>=14.3->nibabel>=3.0.0->nilearn) (1.14.0)\n",
      "Requirement already satisfied, skipping upgrade: pyparsing>=2.0.2 in /opt/miniconda-latest/envs/neuro/lib/python3.6/site-packages (from packaging>=14.3->nibabel>=3.0.0->nilearn) (2.4.7)\n",
      "Installing collected packages: scipy, nilearn\n",
      "  Attempting uninstall: scipy\n",
      "    Found existing installation: scipy 1.4.1\n",
      "    Uninstalling scipy-1.4.1:\n",
      "      Successfully uninstalled scipy-1.4.1\n",
      "  Attempting uninstall: nilearn\n",
      "    Found existing installation: nilearn 0.6.2\n",
      "    Uninstalling nilearn-0.6.2:\n",
      "      Successfully uninstalled nilearn-0.6.2\n",
      "Successfully installed nilearn-0.9.2 scipy-1.5.4\n"
     ]
    }
   ],
   "source": [
    "!pip install --upgrade nilearn\n",
    "# !pip install --upgrade nilearn scikit-learn"
   ]
  },
  {
   "cell_type": "code",
   "execution_count": 1,
   "metadata": {},
   "outputs": [],
   "source": [
    "raw_dir = '/data'\n",
    "experiment_dir = '/output'\n",
    "\n",
    "workflow_name = 'spm_preproc1'\n",
    "output_dir = f'datasink/{workflow_name}'\n",
    "\n",
    "subject_list = ['01', '06']\n",
    "task_list = ['emodet']"
   ]
  },
  {
   "cell_type": "code",
   "execution_count": 2,
   "metadata": {},
   "outputs": [
    {
     "ename": "ModuleNotFoundError",
     "evalue": "No module named 'nilearn.glm'",
     "output_type": "error",
     "traceback": [
      "\u001b[0;31m---------------------------------------------------------------------------\u001b[0m",
      "\u001b[0;31mModuleNotFoundError\u001b[0m                       Traceback (most recent call last)",
      "\u001b[0;32m<ipython-input-2-0d20044674c8>\u001b[0m in \u001b[0;36m<module>\u001b[0;34m\u001b[0m\n\u001b[0;32m----> 1\u001b[0;31m \u001b[0;32mfrom\u001b[0m \u001b[0mnilearn\u001b[0m\u001b[0;34m.\u001b[0m\u001b[0mglm\u001b[0m\u001b[0;34m.\u001b[0m\u001b[0mfirst_level\u001b[0m \u001b[0;32mimport\u001b[0m \u001b[0mFirstLevelModel\u001b[0m\u001b[0;34m\u001b[0m\u001b[0;34m\u001b[0m\u001b[0m\n\u001b[0m",
      "\u001b[0;31mModuleNotFoundError\u001b[0m: No module named 'nilearn.glm'"
     ]
    }
   ],
   "source": [
    "from nilearn.glm.first_level import FirstLevelModel"
   ]
  },
  {
   "cell_type": "code",
   "execution_count": null,
   "metadata": {},
   "outputs": [],
   "source": []
  },
  {
   "cell_type": "code",
   "execution_count": 2,
   "metadata": {},
   "outputs": [],
   "source": [
    "\n",
    "# NOTE: convert time, current time based on number of volumes - HERE \n",
    "\n",
    "from scipy.io import loadmat\n",
    "a#\n",
    "import os \n",
    "\n",
    "sub='sub-06'\n",
    "task = 'task-emodet'\n",
    "\n",
    "\n",
    "onsets_file_path = os.path.join(raw_dir, sub, 'func', f'{sub}_{task}_onsets.mat')\n",
    "onsets_data = loadmat(onsets_file_path)#['onsets'].flatten()"
   ]
  },
  {
   "cell_type": "code",
   "execution_count": 3,
   "metadata": {},
   "outputs": [
    {
     "data": {
      "text/plain": [
       "dict_keys(['__header__', '__version__', '__globals__', 'onsets', 'durations', 'names'])"
      ]
     },
     "execution_count": 3,
     "metadata": {},
     "output_type": "execute_result"
    }
   ],
   "source": [
    "onsets_data.keys()"
   ]
  },
  {
   "cell_type": "code",
   "execution_count": 4,
   "metadata": {
    "scrolled": true
   },
   "outputs": [
    {
     "data": {
      "text/plain": [
       "array([[array(['morph_0_100'], dtype='<U11'),\n",
       "        array(['morph_20_80'], dtype='<U11'),\n",
       "        array(['morph_40_60'], dtype='<U11'),\n",
       "        array(['morph_45_55'], dtype='<U11'),\n",
       "        array(['morph_50_50'], dtype='<U11'),\n",
       "        array(['angry-fearful'], dtype='<U13'),\n",
       "        array(['angry-happy'], dtype='<U11'),\n",
       "        array(['fearful-happy'], dtype='<U13'),\n",
       "        array(['sad-angry'], dtype='<U9'),\n",
       "        array(['sad-fearful'], dtype='<U11'),\n",
       "        array(['sad-happy'], dtype='<U9')]], dtype=object)"
      ]
     },
     "execution_count": 4,
     "metadata": {},
     "output_type": "execute_result"
    }
   ],
   "source": [
    "onsets_data['names']"
   ]
  },
  {
   "cell_type": "code",
   "execution_count": 25,
   "metadata": {},
   "outputs": [
    {
     "data": {
      "text/plain": [
       "(11,)"
      ]
     },
     "execution_count": 25,
     "metadata": {},
     "output_type": "execute_result"
    }
   ],
   "source": [
    "onsets_data[\"onsets\"][0].shape"
   ]
  },
  {
   "cell_type": "code",
   "execution_count": 37,
   "metadata": {},
   "outputs": [
    {
     "name": "stdout",
     "output_type": "stream",
     "text": [
      "368.5374\n",
      "1466.7335\n",
      "-365.33760000000007\n",
      "-366.15419999999995\n",
      "-366.48760000000004\n"
     ]
    }
   ],
   "source": [
    "import numpy as np\n",
    "for i in np.arange(onsets_data[\"onsets\"][0].shape[0]):\n",
    "    if i>=5 and i<=9:\n",
    "#         print(onsets_data['onsets'][0][i].size)\n",
    "        print(onsets_data['onsets'][0][i+1][0][0]-onsets_data['onsets'][0][i][0][0])"
   ]
  },
  {
   "cell_type": "code",
   "execution_count": null,
   "metadata": {},
   "outputs": [],
   "source": []
  },
  {
   "cell_type": "code",
   "execution_count": 28,
   "metadata": {},
   "outputs": [],
   "source": [
    "# welche Emotion bei morph?\n",
    "# wieso [5] bis Ende nur 1 onset "
   ]
  },
  {
   "cell_type": "code",
   "execution_count": 5,
   "metadata": {},
   "outputs": [
    {
     "data": {
      "text/plain": [
       "array([395.98])"
      ]
     },
     "execution_count": 5,
     "metadata": {},
     "output_type": "execute_result"
    }
   ],
   "source": [
    "onsets_data['onsets'][0][0][9]"
   ]
  },
  {
   "cell_type": "markdown",
   "metadata": {},
   "source": []
  }
 ],
 "metadata": {
  "kernelspec": {
   "display_name": "Python 3",
   "language": "python",
   "name": "python3"
  },
  "language_info": {
   "codemirror_mode": {
    "name": "ipython",
    "version": 3
   },
   "file_extension": ".py",
   "mimetype": "text/x-python",
   "name": "python",
   "nbconvert_exporter": "python",
   "pygments_lexer": "ipython3",
   "version": "3.6.10"
  }
 },
 "nbformat": 4,
 "nbformat_minor": 4
}
