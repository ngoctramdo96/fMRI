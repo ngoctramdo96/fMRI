{
 "cells": [
  {
   "cell_type": "code",
   "execution_count": 6,
   "metadata": {},
   "outputs": [],
   "source": [
    "#!/usr/bin/env python\n",
    "# coding: utf-8\n",
    "\n",
    "# 1. Check meta data\n",
    "# 2. Screen data (print some images from all direction)\n",
    "# 3. Plot some time series\n",
    "\n",
    "# %%\n",
    "##### LOAD PACKAGES #####\n",
    "import os\n",
    "import nibabel as nib\n",
    "import matplotlib.pyplot as plt\n",
    "import numpy as np\n",
    "\n",
    "##### PATHS TO DATA #####\n",
    "sub = \"06\"\n",
    "base_path = f\"/data/sub-{sub}/\"\n",
    "anat_path = f\"{base_path}anat/sub-{sub}_T1w.nii\"\n",
    "\n",
    "task = \"task-localizer\"\n",
    "func_path = f\"{base_path}func/sub-{sub}_{task}_bold.nii.gz\"\n",
    "\n",
    "output_path = \"/output/\""
   ]
  },
  {
   "cell_type": "code",
   "execution_count": 7,
   "metadata": {},
   "outputs": [
    {
     "name": "stdout",
     "output_type": "stream",
     "text": [
      "(192, 256, 256)\n",
      "(1.0, 1.0, 1.0)\n",
      "('mm', 'sec')\n"
     ]
    },
    {
     "ename": "FileNotFoundError",
     "evalue": "No such file or no access: '/data/sub-06/func/sub-06_task-localizer_bold.nii.gz'",
     "output_type": "error",
     "traceback": [
      "\u001b[0;31m---------------------------------------------------------------------------\u001b[0m",
      "\u001b[0;31mFileNotFoundError\u001b[0m                         Traceback (most recent call last)",
      "\u001b[0;32m/opt/miniconda-latest/envs/neuro/lib/python3.6/site-packages/nibabel/loadsave.py\u001b[0m in \u001b[0;36mload\u001b[0;34m(filename, **kwargs)\u001b[0m\n\u001b[1;32m     41\u001b[0m     \u001b[0;32mtry\u001b[0m\u001b[0;34m:\u001b[0m\u001b[0;34m\u001b[0m\u001b[0;34m\u001b[0m\u001b[0m\n\u001b[0;32m---> 42\u001b[0;31m         \u001b[0mstat_result\u001b[0m \u001b[0;34m=\u001b[0m \u001b[0mos\u001b[0m\u001b[0;34m.\u001b[0m\u001b[0mstat\u001b[0m\u001b[0;34m(\u001b[0m\u001b[0mfilename\u001b[0m\u001b[0;34m)\u001b[0m\u001b[0;34m\u001b[0m\u001b[0;34m\u001b[0m\u001b[0m\n\u001b[0m\u001b[1;32m     43\u001b[0m     \u001b[0;32mexcept\u001b[0m \u001b[0mOSError\u001b[0m\u001b[0;34m:\u001b[0m\u001b[0;34m\u001b[0m\u001b[0;34m\u001b[0m\u001b[0m\n",
      "\u001b[0;31mFileNotFoundError\u001b[0m: [Errno 2] No such file or directory: '/data/sub-06/func/sub-06_task-localizer_bold.nii.gz'",
      "\nDuring handling of the above exception, another exception occurred:\n",
      "\u001b[0;31mFileNotFoundError\u001b[0m                         Traceback (most recent call last)",
      "\u001b[0;32m<ipython-input-7-a4f837571feb>\u001b[0m in \u001b[0;36m<module>\u001b[0;34m\u001b[0m\n\u001b[1;32m      6\u001b[0m \u001b[0mprint\u001b[0m\u001b[0;34m(\u001b[0m\u001b[0manat\u001b[0m\u001b[0;34m.\u001b[0m\u001b[0mheader\u001b[0m\u001b[0;34m.\u001b[0m\u001b[0mget_xyzt_units\u001b[0m\u001b[0;34m(\u001b[0m\u001b[0;34m)\u001b[0m\u001b[0;34m)\u001b[0m\u001b[0;34m\u001b[0m\u001b[0;34m\u001b[0m\u001b[0m\n\u001b[1;32m      7\u001b[0m \u001b[0;34m\u001b[0m\u001b[0m\n\u001b[0;32m----> 8\u001b[0;31m \u001b[0mfunc\u001b[0m \u001b[0;34m=\u001b[0m \u001b[0mnib\u001b[0m\u001b[0;34m.\u001b[0m\u001b[0mload\u001b[0m\u001b[0;34m(\u001b[0m\u001b[0mfunc_path\u001b[0m\u001b[0;34m)\u001b[0m\u001b[0;34m\u001b[0m\u001b[0;34m\u001b[0m\u001b[0m\n\u001b[0m\u001b[1;32m      9\u001b[0m \u001b[0mprint\u001b[0m\u001b[0;34m(\u001b[0m\u001b[0mfunc\u001b[0m\u001b[0;34m.\u001b[0m\u001b[0mshape\u001b[0m\u001b[0;34m)\u001b[0m\u001b[0;34m\u001b[0m\u001b[0;34m\u001b[0m\u001b[0m\n\u001b[1;32m     10\u001b[0m \u001b[0mprint\u001b[0m\u001b[0;34m(\u001b[0m\u001b[0mfunc\u001b[0m\u001b[0;34m.\u001b[0m\u001b[0mheader\u001b[0m\u001b[0;34m.\u001b[0m\u001b[0mget_zooms\u001b[0m\u001b[0;34m(\u001b[0m\u001b[0;34m)\u001b[0m\u001b[0;34m)\u001b[0m\u001b[0;34m\u001b[0m\u001b[0;34m\u001b[0m\u001b[0m\n",
      "\u001b[0;32m/opt/miniconda-latest/envs/neuro/lib/python3.6/site-packages/nibabel/loadsave.py\u001b[0m in \u001b[0;36mload\u001b[0;34m(filename, **kwargs)\u001b[0m\n\u001b[1;32m     42\u001b[0m         \u001b[0mstat_result\u001b[0m \u001b[0;34m=\u001b[0m \u001b[0mos\u001b[0m\u001b[0;34m.\u001b[0m\u001b[0mstat\u001b[0m\u001b[0;34m(\u001b[0m\u001b[0mfilename\u001b[0m\u001b[0;34m)\u001b[0m\u001b[0;34m\u001b[0m\u001b[0;34m\u001b[0m\u001b[0m\n\u001b[1;32m     43\u001b[0m     \u001b[0;32mexcept\u001b[0m \u001b[0mOSError\u001b[0m\u001b[0;34m:\u001b[0m\u001b[0;34m\u001b[0m\u001b[0;34m\u001b[0m\u001b[0m\n\u001b[0;32m---> 44\u001b[0;31m         \u001b[0;32mraise\u001b[0m \u001b[0mFileNotFoundError\u001b[0m\u001b[0;34m(\u001b[0m\u001b[0;34m\"No such file or no access: '%s'\"\u001b[0m \u001b[0;34m%\u001b[0m \u001b[0mfilename\u001b[0m\u001b[0;34m)\u001b[0m\u001b[0;34m\u001b[0m\u001b[0;34m\u001b[0m\u001b[0m\n\u001b[0m\u001b[1;32m     45\u001b[0m     \u001b[0;32mif\u001b[0m \u001b[0mstat_result\u001b[0m\u001b[0;34m.\u001b[0m\u001b[0mst_size\u001b[0m \u001b[0;34m<=\u001b[0m \u001b[0;36m0\u001b[0m\u001b[0;34m:\u001b[0m\u001b[0;34m\u001b[0m\u001b[0;34m\u001b[0m\u001b[0m\n\u001b[1;32m     46\u001b[0m         \u001b[0;32mraise\u001b[0m \u001b[0mImageFileError\u001b[0m\u001b[0;34m(\u001b[0m\u001b[0;34m\"Empty file: '%s'\"\u001b[0m \u001b[0;34m%\u001b[0m \u001b[0mfilename\u001b[0m\u001b[0;34m)\u001b[0m\u001b[0;34m\u001b[0m\u001b[0;34m\u001b[0m\u001b[0m\n",
      "\u001b[0;31mFileNotFoundError\u001b[0m: No such file or no access: '/data/sub-06/func/sub-06_task-localizer_bold.nii.gz'"
     ]
    }
   ],
   "source": [
    "# %%\n",
    "##### HEADER #####\n",
    "anat = nib.load(anat_path)\n",
    "print(anat.shape)\n",
    "print(anat.header.get_zooms())\n",
    "print(anat.header.get_xyzt_units())\n",
    "\n",
    "func = nib.load(func_path)\n",
    "print(func.shape)\n",
    "print(func.header.get_zooms())\n",
    "print(func.header.get_xyzt_units())"
   ]
  },
  {
   "cell_type": "code",
   "execution_count": null,
   "metadata": {},
   "outputs": [],
   "source": [
    "# %%\n",
    "##### DATA #####\n",
    "anat_data = anat.get_fdata()\n",
    "print(type(anat_data))\n",
    "print(anat_data.shape)\n",
    "\n",
    "mid_voxel = anat_data[94:97, 125:128, 125:128]\n",
    "\n",
    "slice_data = anat_data[50, :, :]\n",
    "print(slice_data.shape)\n",
    "plt.imshow(slice_data.T, cmap=\"gray\", origin=\"lower\")"
   ]
  },
  {
   "cell_type": "code",
   "execution_count": null,
   "metadata": {},
   "outputs": [],
   "source": [
    "# %%\n",
    "##### PLOT #####\n",
    "def plot_skim(data, slices, data_type=\"anat\", fix_dim_value=1000):\n",
    "    fig, axs = plt.subplots(\n",
    "        slices.shape[0] // 4 + 1, 4, figsize=(10, 13), sharex=True, sharey=True\n",
    "    )\n",
    "\n",
    "    i = 0\n",
    "    k = 0\n",
    "\n",
    "    for s in slices:\n",
    "        if data_type == \"anat\":\n",
    "            slice_data = data[:, :, s]\n",
    "        elif data_type == \"func\":\n",
    "            slice_data = data[:, fix_dim_value, :, s]\n",
    "\n",
    "        im = axs[i, k].imshow(slice_data.T, cmap=\"gray\", origin=\"lower\")\n",
    "        axs[i, k].set_title(f\"Slice {s}\")\n",
    "        axs[i, k].axis(\"off\")\n",
    "\n",
    "        if k + 1 < 4:\n",
    "            k += 1\n",
    "        else:\n",
    "            k = 0\n",
    "            i += 1\n",
    "\n",
    "    plt.subplots_adjust(wspace=0.1, hspace=0.1)\n",
    "    plt.tight_layout()\n",
    "    plt.show()"
   ]
  },
  {
   "cell_type": "code",
   "execution_count": null,
   "metadata": {},
   "outputs": [],
   "source": [
    "# %%\n",
    "##### PLOT ANAT #####\n",
    "slices = np.arange(50, 200, 7)\n",
    "plot_skim(anat_data, slices)"
   ]
  },
  {
   "cell_type": "code",
   "execution_count": null,
   "metadata": {},
   "outputs": [],
   "source": [
    "# %%\n",
    "##### PLOT FUNC #####\n",
    "func_data = func.get_fdata()\n",
    "print(func_data.shape)\n",
    "\n",
    "slices = np.arange(0, 500, 50)\n",
    "plot_skim(func_data, slices, data_type=\"func\", fix_dim_value=50)"
   ]
  },
  {
   "cell_type": "code",
   "execution_count": null,
   "metadata": {},
   "outputs": [],
   "source": [
    "# %%\n",
    "##### VOXEL ACTIVITY #####\n",
    "voxel = func_data[38, 30, 25, :]\n",
    "plt.plot(voxel[:100], \"o-\")\n",
    "\n",
    "\n",
    "from matplotlib import patches\n",
    "\n",
    "fig, axes = plt.subplots(ncols=5, nrows=4, figsize=(20, 10))  # 20 timepoints\n",
    "# Loop over the first 20 volumes/timepoints\n",
    "for t, ax in enumerate(axes.flatten()):\n",
    "    ax.imshow(func_data[:, 39, :, t].T, cmap=\"gray\", origin=\"lower\")  # index with t!\n",
    "    rect = patches.Rectangle(\n",
    "        (38, 25), 2, 2, linewidth=2, edgecolor=\"r\", facecolor=\"none\"\n",
    "    )\n",
    "    ax.add_patch(rect)\n",
    "    ax.axis(\"off\")\n",
    "    ax.set_title(\"t = %i\" % t, fontsize=20)\n",
    "fig.tight_layout()"
   ]
  },
  {
   "cell_type": "code",
   "execution_count": null,
   "metadata": {
    "scrolled": true
   },
   "outputs": [],
   "source": [
    "# !pip install --upgrade matplotlib"
   ]
  },
  {
   "cell_type": "code",
   "execution_count": null,
   "metadata": {
    "scrolled": false
   },
   "outputs": [],
   "source": [
    "# %%\n",
    "##### ANIMATION #####\n",
    "from matplotlib.animation import FuncAnimation\n",
    "\n",
    "def animate(data, data_type, plane, output_path, fix_dim_slice=0, task=None):\n",
    "    \"\"\"\n",
    "    if data is 'func', take 2 image dimensions and time as 3. dim\n",
    "    draw only that 2D image of choice over time to observe motion\n",
    "    might be optimal to pick middle slide of each plane\n",
    "    choose slice by setting fix_dim\n",
    "\n",
    "    \"\"\"\n",
    "    fig, ax = plt.subplots()\n",
    "\n",
    "    def update(frame):\n",
    "        ax.clear()\n",
    "        if data_type == \"anat\":\n",
    "            if plane == \"sagittal\":\n",
    "                ax.imshow(data[frame, :, :].T, cmap=\"gray\", origin=\"lower\")\n",
    "            elif plane == \"coronal\":\n",
    "                ax.imshow(data[:, frame, :].T, cmap=\"gray\", origin=\"lower\")\n",
    "            elif plane == \"axial\":\n",
    "                ax.imshow(data[:, :, frame].T, cmap=\"gray\", origin=\"lower\")\n",
    "            ax.set_title(f\"Frame {frame}\")\n",
    "\n",
    "        elif data_type == \"func\":\n",
    "            if plane == \"sagittal\":\n",
    "                ax.imshow(\n",
    "                    data[fix_dim_slice, :, :, frame].T, cmap=\"gray\", origin=\"lower\"\n",
    "                )\n",
    "            elif plane == \"coronal\":\n",
    "                ax.imshow(\n",
    "                    data[:, fix_dim_slice, :, frame].T, cmap=\"gray\", origin=\"lower\"\n",
    "                )\n",
    "            elif plane == \"axial\":\n",
    "                ax.imshow(\n",
    "                    data[:, :, fix_dim_slice, frame].T, cmap=\"gray\", origin=\"lower\"\n",
    "                )\n",
    "            ax.set_title(f\"Frame {frame}\")\n",
    "\n",
    "    if data_type == \"anat\":\n",
    "        numb_frames = data.shape[{\"sagittal\": 0, \"coronal\": 1, \"axial\": 2}[plane]]\n",
    "        file_name = f\"{output_path}animated_{data_type}_{plane}.mp4\"\n",
    "    elif data_type == \"func\":\n",
    "        numb_frames = data.shape[-1]\n",
    "        file_name = f\"{output_path}animated_{data_type}_{task}_{plane}.gif\"\n",
    "\n",
    "    animation = FuncAnimation(fig, update, numb_frames)\n",
    "    animation.save(file_name, writer=\"pillow\", fps=5)\n",
    "\n",
    "    return f\"Animation saved as {file_name}\"\n",
    "\n",
    "\n",
    "# %%\n",
    "##### ANIMATION - EXAMPLE #####\n",
    "animate(\n",
    "    func_data,\n",
    "    data_type=\"func\",\n",
    "    plane=\"sagittal\",\n",
    "    output_path=output_path,\n",
    "    fix_dim_slice=32,\n",
    "    task=\"task-localizer\",\n",
    ")\n",
    "\n",
    "#open with Windows by finding the files in windows, type in Ubuntu Terminal: explorer.exe . "
   ]
  },
  {
   "cell_type": "code",
   "execution_count": 18,
   "metadata": {},
   "outputs": [
    {
     "data": {
      "text/plain": [
       "dict_keys(['AcquisitionNumber', 'AcquisitionTime', 'ContentTime', 'InstanceCreationTime', 'InstanceNumber', 'LargestImagePixelValue', 'WindowCenter', 'WindowWidth'])"
      ]
     },
     "execution_count": 18,
     "metadata": {},
     "output_type": "execute_result"
    }
   ],
   "source": [
    "# %%\n",
    "##### JSON #####\n",
    "import json\n",
    "\n",
    "json_path = f\"{base_path}func/sub-{sub}_{task}_bold.json\"\n",
    "with open(json_path, \"r\") as file:\n",
    "    content = file.read()\n",
    "    json_data = json.loads(content)\n",
    "\n",
    "json_data[\"time\"][\"samples\"].keys()"
   ]
  },
  {
   "cell_type": "code",
   "execution_count": 19,
   "metadata": {},
   "outputs": [
    {
     "data": {
      "text/html": [
       "<div>\n",
       "<style scoped>\n",
       "    .dataframe tbody tr th:only-of-type {\n",
       "        vertical-align: middle;\n",
       "    }\n",
       "\n",
       "    .dataframe tbody tr th {\n",
       "        vertical-align: top;\n",
       "    }\n",
       "\n",
       "    .dataframe thead th {\n",
       "        text-align: right;\n",
       "    }\n",
       "</style>\n",
       "<table border=\"1\" class=\"dataframe\">\n",
       "  <thead>\n",
       "    <tr style=\"text-align: right;\">\n",
       "      <th></th>\n",
       "      <th>onset</th>\n",
       "      <th>duration</th>\n",
       "      <th>trial_type</th>\n",
       "      <th>response_time</th>\n",
       "      <th>stim_file</th>\n",
       "      <th>TODO -- fill in rows and add more tab-separated columns if desired</th>\n",
       "    </tr>\n",
       "  </thead>\n",
       "  <tbody>\n",
       "  </tbody>\n",
       "</table>\n",
       "</div>"
      ],
      "text/plain": [
       "Empty DataFrame\n",
       "Columns: [onset, duration, trial_type, response_time, stim_file, TODO -- fill in rows and add more tab-separated columns if desired]\n",
       "Index: []"
      ]
     },
     "execution_count": 19,
     "metadata": {},
     "output_type": "execute_result"
    }
   ],
   "source": [
    "# %%\n",
    "##### TSV #####\n",
    "import pandas as pd\n",
    "\n",
    "tsv_path = f\"{base_path}func/sub-{sub}_{task}_events.tsv\"\n",
    "tsv_data = pd.read_csv(tsv_path, sep=\"\\t\")\n",
    "tsv_data"
   ]
  }
 ],
 "metadata": {
  "kernelspec": {
   "display_name": "Python [conda env:neuro] *",
   "language": "python",
   "name": "conda-env-neuro-py"
  },
  "language_info": {
   "codemirror_mode": {
    "name": "ipython",
    "version": 3
   },
   "file_extension": ".py",
   "mimetype": "text/x-python",
   "name": "python",
   "nbconvert_exporter": "python",
   "pygments_lexer": "ipython3",
   "version": "3.6.10"
  }
 },
 "nbformat": 4,
 "nbformat_minor": 4
}
