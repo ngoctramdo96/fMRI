{
 "cells": [
  {
   "cell_type": "markdown",
   "id": "8d2ee1df",
   "metadata": {},
   "source": [
    "# Description\n",
    "\n",
    "This script generates a data pattern for use in a Representational Similarity Analysis (RSA) aimed at estimating the similarity or dissimilarity between different emotion morph levels. The process involves running a General Linear Model (GLM), with each morph level assigned its own regressor. Due to computational constraints, the GLMs are focused on specific Regions of Interest (ROIs), specifically the Amygdala. A contrast is computed between each regressor and the baseline, and the resulting beta values serve as input data for the similarity and dissimilarity analysis.\n"
   ]
  },
  {
   "cell_type": "markdown",
   "id": "b4c06bc4",
   "metadata": {},
   "source": [
    "# Load packages"
   ]
  },
  {
   "cell_type": "code",
   "execution_count": 4,
   "id": "baff0501",
   "metadata": {},
   "outputs": [],
   "source": [
    "from nilearn import image, masking, plotting, datasets\n",
    "from nilearn.glm.first_level import FirstLevelModel\n",
    "import nibabel as nib\n",
    "from scipy.io import loadmat\n",
    "import os\n",
    "import json\n",
    "import numpy as np\n",
    "import pandas as pd\n",
    "from scipy.linalg import sqrtm\n",
    "from sklearn.covariance import ledoit_wolf\n",
    "import matplotlib.pyplot as plt\n",
    "from sklearn.metrics import pairwise_distances\n",
    "\n",
    "os.environ[\"OMP_NUM_THREADS\"] = \"1\"\n",
    "os.environ[\"MKL_NUM_THREADS\"] = \"1\""
   ]
  },
  {
   "cell_type": "code",
   "execution_count": 5,
   "id": "2b7c9fc4",
   "metadata": {},
   "outputs": [],
   "source": [
    "# FUNCTIONS: \n",
    "def create_mask(roi_name, atlas, func_img, show_mask = False):\n",
    "    \n",
    "    print(f'Creating mask for {roi_name}')\n",
    "    \n",
    "    #load mask:\n",
    "    roi_mask = image.index_img(atlas['maps'], atlas['labels'].index(roi_name)-1) # background in label list but has no mask\n",
    "\n",
    "    #threshold mask:\n",
    "    roi_mask_thres = image.threshold_img(roi_mask, 25) #25% probability \n",
    "\n",
    "    #resample to correct for flipping and align the two voxel grids - world coordinates (last col on the right) do not match \n",
    "    #to see that call func.affine and roi_mask.affine\n",
    "    roi_mask_resamp = image.resample_img(roi_mask_thres, \n",
    "                                         target_affine=func_img.affine, \n",
    "                                         target_shape=func_img.shape[:3],\n",
    "                                         interpolation=\"nearest\")\n",
    "    \n",
    "    roi_mask_binary = image.math_img(\"img>0\", img=roi_mask_resamp)\n",
    "\n",
    "    if show_mask:\n",
    "        display = plotting.plot_roi(roi_mask_binary, cmap=\"autumn\", vmin=0, title=roi_name)\n",
    "        \n",
    "    return roi_name, roi_mask_binary\n",
    "\n",
    "\n",
    "def create_betas_pattern(sub, task, func_img, t_r, slice_time_ref, mask_img_name, mask_img, events, realignment_params, #for running glm\n",
    "                         cut_factor=2, hrf_model=\"glover\", noise_model=\"ols\", drift_model=\"cosine\", high_pass=0.01, #for running glm\n",
    "                         num_condition=0, stat_type=\"t\", output_type=\"effect_size\", # for computing contrast\n",
    "                         output_home_dir=\"/home/td/fMRI_internship/derivatives-ni-edu-env\", save_residuals=True):\n",
    "    \n",
    "    # first level model\n",
    "    flm = FirstLevelModel(t_r=t_r, slice_time_ref=slice_time_ref, \n",
    "                          mask_img=mask_img, hrf_model=hrf_model,\n",
    "                          noise_model=noise_model, drift_model=drift_model, \n",
    "                          high_pass=high_pass, minimize_memory=False)\n",
    "    \n",
    "    # run for only half of the data\n",
    "    cut_func = round(func_img.shape[-1]/cut_factor)\n",
    "    cut_event = int(len(events)/cut_factor)\n",
    "    \n",
    "    # run model \n",
    "    flm.fit(run_imgs=image.index_img(func_img, np.arange(0, cut_func)),\n",
    "            events=events.iloc[:cut_event, :], \n",
    "            confounds=realignment_params.iloc[:cut_func, :])\n",
    "    \n",
    "    # unload memory:\n",
    "    func_img = None\n",
    "    \n",
    "    # create pattern \n",
    "    flm_dm = flm.design_matrices_[0]\n",
    "    \n",
    "    print(f'Creating pattern for {mask_img_name}')\n",
    "    \n",
    "    R_list = []\n",
    "    \n",
    "    print(flm_dm.columns[:num_condition])\n",
    "    for trial in flm_dm.columns[:num_condition]:\n",
    "        \n",
    "        contrast = flm.compute_contrast(trial, stat_type=stat_type, output_type=output_type) # each trial aginst baseline \n",
    "        masked = masking.apply_mask(contrast, mask_img)\n",
    "        R_list.append(masked)\n",
    "    \n",
    "    R = np.vstack(R_list)\n",
    "    residuals = flm.residuals[0]\n",
    "    \n",
    "    return R, residuals\n",
    "      \n",
    "def multivariate_noise_normalize(R, mask_img, residuals):\n",
    "\n",
    "    # multivariate noise normalization:\n",
    "    resids = masking.apply_mask(residuals, mask_img)\n",
    "    \n",
    "    print(resids.shape)\n",
    "    noise_cov = ledoit_wolf(resids)[0]\n",
    "    D = sqrtm(np.linalg.inv(noise_cov))\n",
    "    R_mnn = R @ D\n",
    "    \n",
    "    return R_mnn"
   ]
  },
  {
   "cell_type": "code",
   "execution_count": 6,
   "id": "b2c22731",
   "metadata": {},
   "outputs": [],
   "source": [
    "# PATH # \n",
    "workflow_name = 'spm_preproc1'\n",
    "base_path = f\"/home/td/fMRI_internship/derivatives/datasink/{workflow_name}\"\n",
    "\n",
    "# SUBJECT AND TASK #\n",
    "subject_list = ['sub-01', 'sub-06']\n",
    "task_list = ['task-emodet']\n",
    "\n",
    "# Choose subject and task \n",
    "sub = subject_list[0]\n",
    "task = task_list[0]\n",
    "\n",
    "# LOAD ONSETS #\n",
    "onsets_file_path = os.path.join('/home/td/fMRI_internship/raw/', sub, 'func', f'{sub}_{task}_onsets.mat')\n",
    "onsets_data = loadmat(onsets_file_path)\n",
    "\n",
    "# create df with all trial types and their onsets\n",
    "events_df = pd.DataFrame(columns=['onset', 'duration', 'trial_type'])\n",
    "\n",
    "onset = []\n",
    "trial_type = []\n",
    "\n",
    "for i, name in enumerate(n[0] for n in onsets_data['names'][0] if \"morph\" in n[0]):\n",
    "    current_onset = onsets_data['onsets'][0][i].squeeze()\n",
    "    onset.extend(current_onset)\n",
    "    trial_type.extend([name]*len(current_onset))\n",
    "\n",
    "events_df['onset']=onset\n",
    "events_df['duration']=1\n",
    "events_df['trial_type']=trial_type\n",
    "events_df\n",
    "\n",
    "events_df = events_df.sort_values(by=\"onset\", ascending=True).reset_index(drop=True)\n",
    "    \n",
    "# LOAD OTHER INFOS:\n",
    "json_path = f'/home/td/fMRI_internship/raw/{sub}/func/{sub}_{task}_bold.json'\n",
    "with open(json_path, 'r') as file:\n",
    "    content = file.read()\n",
    "    json_data = json.loads(content)\n",
    "    \n",
    "t_r = json_data['RepetitionTime']\n",
    "slice_time_ref = 0.25 #due to Multibandsequenz #no further slice timing is done, only used to define start and end time point.\n",
    "\n",
    "### load realignment parameter to use as confounds ###\n",
    "realignment_params_path = os.path.join(base_path, sub, task, f'rp_a{sub}_{task}_bold_roi.txt')\n",
    "realignment_params = np.loadtxt(realignment_params_path)\n",
    "realignment_params_df = pd.DataFrame(data=realignment_params, columns=[\"x\", \"y\", \"z\", \"pitch\", \"roll\", \"yaw\"])\n",
    "# columns 1-3 represent x, y and z translations in mm, while columns 4-6 correspond to pitch, roll and yaw rotations in radians.\n",
    "\n",
    "# LOAD ATLAS FOR MASKING:  Harvard-Oxford atlas - PROBABILITY \n",
    "\"\"\"\n",
    "There are two primary types of atlas images in FSL:\n",
    "\n",
    "A probabilistic atlas is a 4D NIFTI image, where each 3D volume contains a probability map for one region in the atlas. \n",
    "Each 3D volum contains values between 0 and 100, indicating the probability that a given voxel is classified as belonging\n",
    "to the structure represented by that volume. A label (or summary, or hard segementation) atlas is a 3D NIfTI image which \n",
    "contains different discrete integer values for each region defined in the atlas.\n",
    "\"\"\"\n",
    "ho_cort_prob_atlas = datasets.fetch_atlas_harvard_oxford('cort-prob-2mm')\n",
    "ho_cort_prob_atlas_img = image.load_img(ho_cort_prob_atlas['maps'])\n",
    "# display = plotting.plot_prob_atlas(ho_cort_prob_atlas_img, colorbar=True)#, threshold=\"90%\")\n",
    "\n",
    "ho_sub_prob_atlas = datasets.fetch_atlas_harvard_oxford('sub-prob-2mm')\n",
    "ho_sub_prob_atlas_img = image.load_img(ho_sub_prob_atlas['maps'])\n",
    "# display = plotting.plot_prob_atlas(ho_sub_prob_atlas_img, colorbar=True)#, threshold=\"90%\")\n",
    "\n",
    "rois_cort_list = [\"Inferior Frontal Gyrus, pars triangularis\", # anterior\n",
    "             \"Inferior Frontal Gyrus, pars opercularis\", # posterior \n",
    "             \"Insular Cortex\",\n",
    "             \"Cingulate Gyrus, anterior division\",\n",
    "             \"Cingulate Gyrus, posterior division\",\n",
    "             \"Juxtapositional Lobule Cortex (formerly Supplementary Motor Cortex)\",\n",
    "                \"Frontal Medial Cortex\"\n",
    "            ]\n",
    "\n",
    "rois_sub_list = ['Right Amygdala', 'Left Amygdala']\n"
   ]
  },
  {
   "cell_type": "code",
   "execution_count": null,
   "id": "3ffdd2de",
   "metadata": {
    "scrolled": false
   },
   "outputs": [],
   "source": [
    "# create dissimilarity matrix\n",
    "roi_name = \"Right Amygdala\"\n",
    "func = image.load_img(f\"{base_path}/{sub}/{task}/fwhm-4swra{sub}_{task}_bold_roi.nii\") # smooth can also be done in FirstLevelModel\n",
    "mask_img_name, mask_img = create_mask(roi_name, atlas=ho_sub_prob_atlas, func_img=func, show_mask = True)\n",
    "\n",
    "# run glm and create pattern \n",
    "R, residuals = create_betas_pattern(sub, task, func_img=func, t_r=t_r, slice_time_ref=slice_time_ref,\n",
    "                     mask_img_name=mask_img_name, mask_img=mask_img, events=events_df,\n",
    "                     realignment_params=realignment_params_df, cut_factor=2,\n",
    "                     hrf_model=\"glover\", noise_model=\"ols\", drift_model=\"cosine\", high_pass=0.01,\n",
    "                     num_condition=5, stat_type=\"t\", output_type=\"effect_size\",\n",
    "                     output_home_dir=\"/home/td/fMRI_internship/derivatives-ni-edu-env\", save_residuals=True)\n",
    "\n",
    "R_mnn = multivariate_noise_normalize(R, mask_img=mask_img, residuals=residuals)\n",
    "\n",
    "#calculate dissimilarity \n",
    "rdm = pairwise_distances(R, metric='cosine')\n",
    "\n",
    "#save dissimilarity matrix\n",
    "np.save(f\"/home/td/fMRI_internship/derivatives-ni-edu-env/{sub}/{task}/rdm_{mask_img_name}\", rdm)"
   ]
  },
  {
   "cell_type": "markdown",
   "id": "7371c0a6",
   "metadata": {},
   "source": [
    "# Inspect RDM \n",
    "\n",
    "It's recommended to restart kernel and then inspect the rdm if kernel die."
   ]
  },
  {
   "cell_type": "code",
   "execution_count": 12,
   "id": "77b48ae8",
   "metadata": {
    "scrolled": true
   },
   "outputs": [],
   "source": [
    "# load rdm \n",
    "mask_img_name=\"Right Amygdala\"\n",
    "rdm = np.load(f\"/home/td/fMRI_internship/derivatives-ni-edu-env/{sub}/{task}/rdm_{mask_img_name}.npy\")"
   ]
  },
  {
   "cell_type": "code",
   "execution_count": 13,
   "id": "a20a4f41",
   "metadata": {
    "scrolled": false
   },
   "outputs": [
    {
     "data": {
      "text/plain": [
       "<matplotlib.colorbar.Colorbar at 0x7f970139b550>"
      ]
     },
     "execution_count": 13,
     "metadata": {},
     "output_type": "execute_result"
    },
    {
     "data": {
      "image/png": "[encoded data removed]",
      "text/plain": [
       "<Figure size 640x480 with 2 Axes>"
      ]
     },
     "metadata": {},
     "output_type": "display_data"
    }
   ],
   "source": [
    "# visualize rdm\n",
    "plt.imshow(rdm)\n",
    "plt.colorbar()\n",
    "\n",
    "# 0 - 'morph_0_100'\n",
    "# 1 - 'morph_20_80'\n",
    "# 2 - 'morph_40_60'\n",
    "# 3 - 'morph_45_55'\n",
    "# 4 - 'morph_50_50'"
   ]
  }
 ],
 "metadata": {
  "kernelspec": {
   "display_name": "Python 3 (ipykernel)",
   "language": "python",
   "name": "python3"
  },
  "language_info": {
   "codemirror_mode": {
    "name": "ipython",
    "version": 3
   },
   "file_extension": ".py",
   "mimetype": "text/x-python",
   "name": "python",
   "nbconvert_exporter": "python",
   "pygments_lexer": "ipython3",
   "version": "3.9.16"
  }
 },
 "nbformat": 4,
 "nbformat_minor": 5
}
